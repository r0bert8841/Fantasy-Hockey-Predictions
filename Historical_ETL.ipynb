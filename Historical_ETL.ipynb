{
  "nbformat": 4,
  "nbformat_minor": 0,
  "metadata": {
    "colab": {
      "provenance": [],
      "toc_visible": true,
      "mount_file_id": "1zz06ag1pnABfTTkU9IrfvvjjSUSnr434",
      "authorship_tag": "ABX9TyMYWz+0ylBF5lekWE/BRKZ+",
      "include_colab_link": true
    },
    "kernelspec": {
      "name": "python3",
      "display_name": "Python 3"
    },
    "language_info": {
      "name": "python"
    }
  },
  "cells": [
    {
      "cell_type": "markdown",
      "metadata": {
        "id": "view-in-github",
        "colab_type": "text"
      },
      "source": [
        "<a href=\"https://colab.research.google.com/github/r0bert8841/Fantasy-Hockey-Predictions/blob/main/Historical_ETL.ipynb\" target=\"_parent\"><img src=\"https://colab.research.google.com/assets/colab-badge.svg\" alt=\"Open In Colab\"/></a>"
      ]
    },
    {
      "cell_type": "code",
      "execution_count": 1,
      "metadata": {
        "id": "NlaBZxf5sgHQ"
      },
      "outputs": [],
      "source": [
        "import pandas as pd\n",
        "import numpy as np"
      ]
    },
    {
      "cell_type": "code",
      "source": [
        "df_player = pd.read_csv('/content/drive/MyDrive/hockey_stats/player_list', sep='|')\n",
        "df_player=df_player.reset_index()"
      ],
      "metadata": {
        "id": "8QA2G2SAtKs4"
      },
      "execution_count": 3,
      "outputs": []
    },
    {
      "cell_type": "code",
      "source": [
        "seasons = ['20102011','20112012','20122013','20132014','20142015','20152016','20162017','20172018','20182019','20192020','20202021','20212022' ,'20222023']\n",
        "#seasons = ['19981999','19992000','20002001','20012002','20022003','20032004','20042005','20052006','20062007','20072008','20082009','20092010' ,'20232024']"
      ],
      "metadata": {
        "id": "aD-Y7mAttQ-F"
      },
      "execution_count": 6,
      "outputs": []
    },
    {
      "cell_type": "code",
      "source": [
        "df = pd.DataFrame() # Initialize an empty dataframe\n",
        "for season in seasons: # Iterate through a list called seasons\n",
        "  df_season = pd.read_csv('/content/drive/MyDrive/hockey_stats/game_logs/logs'+str(season), sep='|') # Read in a CSV file for the given season\n",
        "  df=pd.concat([df,df_season],axis=0) # Concatenate the data for the current season into the main dataframe"
      ],
      "metadata": {
        "colab": {
          "base_uri": "https://localhost:8080/"
        },
        "id": "G9_ZgBmGt2Tl",
        "outputId": "41ccc04e-82b5-40d3-d247-81c6928d7f21"
      },
      "execution_count": 7,
      "outputs": [
        {
          "output_type": "stream",
          "name": "stderr",
          "text": [
            "<ipython-input-7-6901370be05d>:3: DtypeWarning: Columns (14,15,22) have mixed types. Specify dtype option on import or set low_memory=False.\n",
            "  df_season = pd.read_csv('/content/drive/MyDrive/hockey_stats/game_logs/logs'+str(season), sep='|')\n",
            "<ipython-input-7-6901370be05d>:3: DtypeWarning: Columns (14,15,22) have mixed types. Specify dtype option on import or set low_memory=False.\n",
            "  df_season = pd.read_csv('/content/drive/MyDrive/hockey_stats/game_logs/logs'+str(season), sep='|')\n"
          ]
        }
      ]
    },
    {
      "cell_type": "code",
      "source": [
        "df=df.sort_values(by=['player_id','date']).reset_index()"
      ],
      "metadata": {
        "id": "oCN8XwrsuZae"
      },
      "execution_count": 8,
      "outputs": []
    },
    {
      "cell_type": "code",
      "source": [
        "df_goals = df[['season','player_id','date','goals']].dropna()"
      ],
      "metadata": {
        "id": "I9SZ12mmub6R"
      },
      "execution_count": 9,
      "outputs": []
    }
  ]
}